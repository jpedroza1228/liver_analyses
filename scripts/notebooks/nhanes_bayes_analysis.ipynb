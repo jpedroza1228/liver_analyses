{
 "cells": [
  {
   "cell_type": "markdown",
   "id": "e00a5b49",
   "metadata": {},
   "source": [
    "# NHANES Analysis Using 2013-2014, 2015-2016, & 2017-2018 Data"
   ]
  },
  {
   "cell_type": "markdown",
   "id": "badd5382",
   "metadata": {},
   "source": [
    "### Importing Packages"
   ]
  },
  {
   "cell_type": "code",
   "execution_count": null,
   "id": "663375ff",
   "metadata": {},
   "outputs": [],
   "source": [
    "import os\n",
    "os.environ['QT_API'] = 'PyQt6'\n",
    "\n",
    "import pandas as pd\n",
    "import numpy as np\n",
    "import plotnine as pn\n",
    "from janitor import clean_names\n",
    "from matplotlib import rcParams\n",
    "import seaborn as sns\n",
    "import matplotlib.pyplot as plt\n",
    "from pyhere import here\n",
    "import pyarrow as pa\n",
    "import pyarrow.parquet as pq\n",
    "\n",
    "# Set some options\n",
    "pd.set_option('display.max_columns', None)\n",
    "pd.set_option('mode.copy_on_write', True)\n",
    "rcParams.update({'savefig.bbox': 'tight'}) # Keeps plotnine legend from being cut off\n"
   ]
  },
  {
   "cell_type": "markdown",
   "id": "99d9f952",
   "metadata": {},
   "source": [
    "### Blood Analyses to Create Latent Profiles"
   ]
  },
  {
   "cell_type": "code",
   "execution_count": null,
   "id": "f6ac1452",
   "metadata": {},
   "outputs": [],
   "source": [
    "hdl_table = pq.read_table(here('data/cleaned/hdl.parquet'))\n",
    "hdl = hdl_table.to_pandas()\n",
    "\n",
    "ldl_table = pq.read_table(here('data/cleaned/ldl.parquet'))\n",
    "ldl = ldl_table.to_pandas()\n",
    "\n",
    "bio_table = pq.read_table(here('data/cleaned/bio.parquet'))\n",
    "bio = bio_table.to_pandas()\n",
    "\n",
    "# total_chol_table = pq.read_table(here('data/cleaned/total_chol.parquet'))\n",
    "# total_chol = total_chol_table.to_pandas()\n",
    "\n",
    "print(hdl.head(), '\\n')\n",
    "print(ldl.head(), '\\n')\n",
    "print(bio.head(), '\\n')\n",
    "# print(total_chol.head(), '\\n')"
   ]
  },
  {
   "cell_type": "code",
   "execution_count": null,
   "id": "7aa6e5a7",
   "metadata": {},
   "outputs": [],
   "source": [
    "ldl_sub = ldl.dropna(subset = ['trigly_mg_dl', 'ldl_mg_dl'], how = 'all')\n",
    "bio_sub = bio.dropna(subset = ['albumin_g_dl', 'alp_iu_l', 'ast_u_l', 'alt_u_l', 'ggt_u_l', 'total_bilirubin_mg_dl', 'tri_mg_dl'], how = 'all')"
   ]
  },
  {
   "cell_type": "code",
   "execution_count": null,
   "id": "1a512140",
   "metadata": {},
   "outputs": [],
   "source": [
    "blood_df = (\n",
    "  ldl_sub\n",
    "  .merge(hdl,\n",
    "         'left',\n",
    "         'id')\n",
    "  .merge(bio_sub,\n",
    "         'left',\n",
    "         'id')\n",
    ")"
   ]
  },
  {
   "cell_type": "code",
   "execution_count": null,
   "id": "dec723d2",
   "metadata": {},
   "outputs": [],
   "source": [
    "blood_train = blood_df.sample(frac = .8, random_state = 100825)\n",
    "\n",
    "miss_pct = blood_train.isnull().sum()/len(blood_train)*100\n",
    "miss_pct.sort_values(ascending = False)"
   ]
  },
  {
   "cell_type": "code",
   "execution_count": null,
   "id": "e3cf0a86",
   "metadata": {},
   "outputs": [],
   "source": [
    "from sklearn.impute import SimpleImputer\n",
    "imp = SimpleImputer(missing_values = np.nan, strategy = 'mean')\n",
    "\n",
    "blood_traini = imp.fit_transform(blood_train)\n",
    "blood_traini = pd.DataFrame(blood_traini, columns = blood_train.columns)"
   ]
  },
  {
   "cell_type": "code",
   "execution_count": null,
   "id": "c9758f3b",
   "metadata": {},
   "outputs": [],
   "source": [
    "pn.ggplot.show(\n",
    "  pn.ggplot(blood_traini, pn.aes('ast_u_l'))\n",
    "  + pn.geom_histogram(color = 'black', fill = 'seagreen')\n",
    "  + pn.theme_light()\n",
    ")\n",
    "\n",
    "pn.ggplot.show(\n",
    "  pn.ggplot(blood_traini, pn.aes('alt_u_l'))\n",
    "  + pn.geom_histogram(color = 'black', fill = 'seagreen')\n",
    "  + pn.theme_light()\n",
    ")"
   ]
  },
  {
   "cell_type": "markdown",
   "id": "d00fb929",
   "metadata": {},
   "source": [
    "Variables to probably keep are: **alt_bi**, **ast_bi**, **ggt_bi**, **hdl_bi**, **ldl_bi**, **trigly_bi**\n",
    "\n",
    "Unsure about: albumin_g-dl, alp_iu_l, total_bilirubin_mg_dl"
   ]
  },
  {
   "cell_type": "code",
   "execution_count": null,
   "id": "dd39653a",
   "metadata": {},
   "outputs": [],
   "source": [
    "blood_traini = blood_traini.drop(columns = 'tri_mg_dl')\n",
    "blood_traini.drop(columns = 'id').corr().round(2)"
   ]
  },
  {
   "cell_type": "code",
   "execution_count": null,
   "id": "ded7688c",
   "metadata": {},
   "outputs": [],
   "source": [
    "from stepmix.stepmix import StepMix\n",
    "\n",
    "lpa_model = []\n",
    "for i in range(5):\n",
    "  mod = StepMix(n_components = i + 1,\n",
    "          measurement = 'continuous',\n",
    "          verbose = 1,\n",
    "          n_init = 20,\n",
    "          random_state = 100825)\n",
    "  lpa_model.append(mod)\n",
    "\n",
    "for mod in lpa_model:\n",
    "  mod.fit(blood_traini.drop(columns = 'id'))\n",
    "\n",
    "for i, mod in enumerate(lpa_model, start = 1):\n",
    "  blood_traini[f'class{i}'] = mod.predict(blood_traini[['trigly_mg_dl', 'ldl_mg_dl',\n",
    "                                                        'hdl_mg_dl', 'albumin_g_dl',\n",
    "                                                        'alp_iu_l', 'ast_u_l',\n",
    "                                                        'alt_u_l', 'ggt_u_l',\n",
    "                                                        'total_bilirubin_mg_dl']])\n"
   ]
  },
  {
   "cell_type": "code",
   "execution_count": null,
   "id": "02c40ec9",
   "metadata": {},
   "outputs": [],
   "source": [
    "rel_entropy = [lpa_model[i].relative_entropy(blood_traini[['trigly_mg_dl', 'ldl_mg_dl',\n",
    "                                          'hdl_mg_dl', 'albumin_g_dl',\n",
    "                                          'alp_iu_l', 'ast_u_l',\n",
    "                                          'alt_u_l', 'ggt_u_l',\n",
    "                                          'total_bilirubin_mg_dl']]).round(3) for i in np.arange(1, len(lpa_model))]\n",
    "\n",
    "sabic_values = [lpa_model[i].sabic(blood_traini[['trigly_mg_dl', 'ldl_mg_dl',\n",
    "                                          'hdl_mg_dl', 'albumin_g_dl',\n",
    "                                          'alp_iu_l', 'ast_u_l',\n",
    "                                          'alt_u_l', 'ggt_u_l',\n",
    "                                          'total_bilirubin_mg_dl']]).round(2) for i in range(len(lpa_model))]\n",
    "\n",
    "aic_values = [lpa_model[i].aic(blood_traini[['trigly_mg_dl', 'ldl_mg_dl',\n",
    "                                          'hdl_mg_dl', 'albumin_g_dl',\n",
    "                                          'alp_iu_l', 'ast_u_l',\n",
    "                                          'alt_u_l', 'ggt_u_l',\n",
    "                                          'total_bilirubin_mg_dl']]).round(2) for i in range(len(lpa_model))]\n",
    "\n",
    "bic_values = [lpa_model[i].bic(blood_traini[['trigly_mg_dl', 'ldl_mg_dl',\n",
    "                                          'hdl_mg_dl', 'albumin_g_dl',\n",
    "                                          'alp_iu_l', 'ast_u_l',\n",
    "                                          'alt_u_l', 'ggt_u_l',\n",
    "                                          'total_bilirubin_mg_dl']]).round(2) for i in range(len(lpa_model))]"
   ]
  },
  {
   "cell_type": "code",
   "execution_count": null,
   "id": "3ad69890",
   "metadata": {},
   "outputs": [],
   "source": [
    "rel_entropy.insert(0, 1)"
   ]
  },
  {
   "cell_type": "code",
   "execution_count": null,
   "id": "41c6e6e5",
   "metadata": {},
   "outputs": [],
   "source": [
    "fit_df = pd.DataFrame({'classes': [1, 2, 3, 4, 5],\n",
    "              'aic': aic_values,\n",
    "              'bic': bic_values,\n",
    "              'sabic': sabic_values,\n",
    "              'rel_entropy': rel_entropy})\n",
    "\n",
    "fit_df = fit_df.melt(id_vars = ['classes', 'rel_entropy'], value_vars = ['aic', 'bic', 'sabic'])"
   ]
  },
  {
   "cell_type": "code",
   "execution_count": null,
   "id": "9673e2df",
   "metadata": {},
   "outputs": [],
   "source": [
    "pn.ggplot.show(\n",
    "  pn.ggplot(fit_df, pn.aes('classes', 'value'))\n",
    "  + pn.geom_line(pn.aes(color = 'variable'))\n",
    "  + pn.geom_point(pn.aes(color = 'variable'))\n",
    "  + pn.geom_text(pn.aes(label = 'rel_entropy'))\n",
    "  + pn.facet_wrap('variable', scales = 'free')\n",
    "  + pn.theme_light()\n",
    ")"
   ]
  },
  {
   "cell_type": "code",
   "execution_count": null,
   "id": "69d9a78b",
   "metadata": {},
   "outputs": [],
   "source": [
    "[blood_traini[f'class{i+1}'].value_counts(normalize = True) for i in range(len(lpa_model))]"
   ]
  },
  {
   "cell_type": "code",
   "execution_count": null,
   "id": "b6acbd89",
   "metadata": {},
   "outputs": [],
   "source": [
    "(\n",
    "  [blood_traini.\n",
    "  groupby('class2')[i]\n",
    "  .mean()\n",
    "  .reset_index()\n",
    "  for i in ['trigly_mg_dl', 'ldl_mg_dl',\n",
    "  'hdl_mg_dl', 'albumin_g_dl',\n",
    "  'alp_iu_l', 'ast_u_l',\n",
    "  'alt_u_l', 'ggt_u_l',\n",
    "  'total_bilirubin_mg_dl']]\n",
    ")"
   ]
  },
  {
   "cell_type": "code",
   "execution_count": null,
   "id": "4f24d3c9",
   "metadata": {},
   "outputs": [],
   "source": [
    "(\n",
    "  [blood_traini.\n",
    "  groupby('class3')[i]\n",
    "  .mean()\n",
    "  .reset_index()\n",
    "  for i in ['trigly_mg_dl', 'ldl_mg_dl',\n",
    "  'hdl_mg_dl', 'albumin_g_dl',\n",
    "  'alp_iu_l', 'ast_u_l',\n",
    "  'alt_u_l', 'ggt_u_l',\n",
    "  'total_bilirubin_mg_dl']]\n",
    ")"
   ]
  },
  {
   "cell_type": "code",
   "execution_count": null,
   "id": "d36bea3d",
   "metadata": {},
   "outputs": [],
   "source": [
    "(\n",
    "  [blood_traini.\n",
    "  groupby('class4')[i]\n",
    "  .mean()\n",
    "  .reset_index()\n",
    "  for i in ['trigly_mg_dl', 'ldl_mg_dl',\n",
    "  'hdl_mg_dl', 'albumin_g_dl',\n",
    "  'alp_iu_l', 'ast_u_l',\n",
    "  'alt_u_l', 'ggt_u_l',\n",
    "  'total_bilirubin_mg_dl']]\n",
    ")"
   ]
  },
  {
   "cell_type": "code",
   "execution_count": null,
   "id": "aa1dead0",
   "metadata": {},
   "outputs": [],
   "source": [
    "(\n",
    "  [blood_traini.\n",
    "  groupby('class5')[i]\n",
    "  .mean()\n",
    "  .reset_index()\n",
    "  for i in ['trigly_mg_dl', 'ldl_mg_dl',\n",
    "  'hdl_mg_dl', 'albumin_g_dl',\n",
    "  'alp_iu_l', 'ast_u_l',\n",
    "  'alt_u_l', 'ggt_u_l',\n",
    "  'total_bilirubin_mg_dl']]\n",
    ")"
   ]
  },
  {
   "cell_type": "code",
   "execution_count": null,
   "id": "0651ee41",
   "metadata": {},
   "outputs": [],
   "source": [
    "for i in ['trigly_mg_dl', 'ldl_mg_dl', \n",
    "          'hdl_mg_dl', 'albumin_g_dl',\n",
    "          'alp_iu_l', 'ast_u_l',\n",
    "          'alt_u_l', 'ggt_u_l', 'total_bilirubin_mg_dl']:\n",
    "  pn.ggplot.show(\n",
    "    pn.ggplot(\n",
    "      blood_traini,\n",
    "      pn.aes(i)\n",
    "    )\n",
    "    + pn.geom_histogram(\n",
    "      pn.aes(fill = 'factor(class2)'),\n",
    "      bins = 20\n",
    "    )\n",
    "    + pn.facet_wrap('class2')\n",
    "    + pn.theme_light()\n",
    "  )\n",
    "\n",
    "# pn.ggplot.show(\n",
    "#   pn.ggplot(\n",
    "#     blood_traini,\n",
    "#     pn.aes('trigly_mg_dl',\n",
    "#            'ldl_mg_dl')\n",
    "#   )\n",
    "#   + pn.geom_point(pn.aes(color = 'factor(class2)'))\n",
    "#   + pn.theme_light()\n",
    "# )\n",
    "\n",
    "# pn.ggplot.show(\n",
    "#   pn.ggplot(\n",
    "#     blood_traini,\n",
    "#     pn.aes('hdl_mg_dl',\n",
    "#            'ldl_mg_dl')\n",
    "#   )\n",
    "#   + pn.geom_point(pn.aes(color = 'factor(class2)'))\n",
    "#   + pn.theme_light()\n",
    "# )\n",
    "\n",
    "# pn.ggplot.show(\n",
    "#   pn.ggplot(\n",
    "#     blood_traini,\n",
    "#     pn.aes('ast_u_l',\n",
    "#            'alt_u_l')\n",
    "#   )\n",
    "#   + pn.geom_point(pn.aes(color = 'factor(class2)'))\n",
    "#   + pn.theme_light()\n",
    "# )"
   ]
  },
  {
   "cell_type": "code",
   "execution_count": null,
   "id": "9b6a1227",
   "metadata": {},
   "outputs": [],
   "source": [
    "for i in ['trigly_mg_dl', 'ldl_mg_dl', \n",
    "          'hdl_mg_dl', 'albumin_g_dl',\n",
    "          'alp_iu_l', 'ast_u_l',\n",
    "          'alt_u_l', 'ggt_u_l', 'total_bilirubin_mg_dl']:\n",
    "  pn.ggplot.show(\n",
    "    pn.ggplot(\n",
    "      blood_traini,\n",
    "      pn.aes(i)\n",
    "    )\n",
    "    + pn.geom_histogram(\n",
    "      pn.aes(fill = 'factor(class3)'),\n",
    "      position = 'dodge',\n",
    "      bins = 20\n",
    "    )\n",
    "    + pn.facet_wrap('class3')\n",
    "    + pn.theme_light()\n",
    "  )"
   ]
  },
  {
   "cell_type": "markdown",
   "id": "e674efb8",
   "metadata": {},
   "source": [
    "### Merging in the Data From Database "
   ]
  },
  {
   "cell_type": "code",
   "execution_count": null,
   "id": "13cd0013",
   "metadata": {},
   "outputs": [],
   "source": [
    "data_tbl = pq.read_table(here('data/nhanes_data_2013_2017.parquet'))\n",
    "data = data_tbl.to_pandas()"
   ]
  },
  {
   "cell_type": "code",
   "execution_count": null,
   "id": "88faa235",
   "metadata": {},
   "outputs": [],
   "source": [
    "joined = blood_traini.merge(data, 'right', on = 'id')\n",
    "print(joined.head())\n",
    "(joined.shape)"
   ]
  },
  {
   "cell_type": "code",
   "execution_count": null,
   "id": "c4d6d234",
   "metadata": {},
   "outputs": [],
   "source": [
    "# joined = joined.dropna(subset = ['albumin_g_dl', 'alp_iu_l', 'ast_u_l', 'alt_u_l', 'ggt_u_l', 'total_bilirubin_mg_dl', 'trigly_mg_dl', 'ldl_mg_dl', 'hdl_mg_dl'], how = 'all')\n",
    "# joined.head()"
   ]
  },
  {
   "cell_type": "markdown",
   "id": "c082df9c",
   "metadata": {},
   "source": [
    "### Splitting Into Training & Testing"
   ]
  },
  {
   "cell_type": "code",
   "execution_count": null,
   "id": "fe50bd68",
   "metadata": {},
   "outputs": [],
   "source": [
    "train = joined.sample(frac = .8, random_state = 100825)\n",
    "print(train.head(), '\\n\\n')\n",
    "print(joined.shape)"
   ]
  },
  {
   "cell_type": "code",
   "execution_count": null,
   "id": "f71ae2c7",
   "metadata": {},
   "outputs": [],
   "source": [
    "train = train.drop(columns = ['class1', 'class3', 'class4', 'class5', 'birth_country'])\n",
    "print(train.head())"
   ]
  },
  {
   "cell_type": "code",
   "execution_count": null,
   "id": "e8057ef9",
   "metadata": {},
   "outputs": [],
   "source": [
    "miss_pct1 = train.isnull().sum()/len(train)*100\n",
    "miss_pct1.sort_values(ascending = False)"
   ]
  },
  {
   "cell_type": "markdown",
   "id": "33569b49",
   "metadata": {},
   "source": [
    "Conducting Imputation on Training Data"
   ]
  },
  {
   "cell_type": "code",
   "execution_count": null,
   "id": "05316dfa",
   "metadata": {},
   "outputs": [],
   "source": [
    "train.head()"
   ]
  },
  {
   "cell_type": "code",
   "execution_count": null,
   "id": "da01dd26",
   "metadata": {},
   "outputs": [],
   "source": [
    "train['birth_country'].value_counts(normalize = True)"
   ]
  },
  {
   "cell_type": "code",
   "execution_count": null,
   "id": "d4b26b4f",
   "metadata": {},
   "outputs": [],
   "source": [
    "train['heard_my_plate'] = np.where(train['heard_my_plate'] == 1, 1, 0)\n",
    "\n",
    "train['race_ethnic'] = train['race_ethnic'].astype('object')\n",
    "train['length_us'] = train['length_us'].astype('object')\n",
    "train['ed'] = train['ed'].astype('object')\n",
    "train['marital'] = train['marital'].astype('object')\n",
    "train['annual_house_income'] = train['annual_house_income'].astype('object')\n",
    "\n",
    "# train_num = train.select_dtypes(['int8', 'int32', 'float']).drop(columns = 'id')"
   ]
  },
  {
   "cell_type": "code",
   "execution_count": null,
   "id": "8256fa94",
   "metadata": {},
   "outputs": [],
   "source": [
    "estimator = RandomForestRegressor(\n",
    "    n_estimators = 100,\n",
    "    max_depth = 2,\n",
    "    random_state = 100825,\n",
    "    n_jobs = -1\n",
    ")"
   ]
  },
  {
   "cell_type": "code",
   "execution_count": null,
   "id": "74bc0a86",
   "metadata": {},
   "outputs": [],
   "source": [
    "\n",
    "numeric_imputer = IterativeImputer(\n",
    "    estimator = estimator,\n",
    "    max_iter = 10,\n",
    "    random_state = 100825\n",
    ")\n",
    "\n",
    "train_num_imp = pd.DataFrame(\n",
    "    numeric_imputer.fit_transform(train_num),\n",
    "    columns = train_num.columns\n",
    ")\n",
    "\n",
    "train_num_imp.head()"
   ]
  },
  {
   "cell_type": "code",
   "execution_count": null,
   "id": "ffa7c065",
   "metadata": {},
   "outputs": [],
   "source": [
    "# running multiple immputation iterations\n",
    "\n",
    "m = 5\n",
    "\n",
    "imputed_datasets = []\n",
    "\n",
    "for i in range(m):\n",
    "    imputer = IterativeImputer(\n",
    "        estimator=estimator,\n",
    "        random_state=i,  # Different seed for each imputation\n",
    "        sample_posterior=True,  # Adds randomness like MICE\n",
    "        max_iter=10\n",
    "    )\n",
    "    imputed = pd.DataFrame(imputer.fit_transform(df), columns=df.columns)\n",
    "    imputed_datasets.append(imputed)\n",
    "    \n",
    "    "
   ]
  },
  {
   "cell_type": "code",
   "execution_count": null,
   "id": "e793bd40",
   "metadata": {},
   "outputs": [],
   "source": [
    "from sklearn.preprocessing import OneHotEncoder\n",
    "\n",
    "onehot = OneHotEncoder(sparse_output = False, drop = 'if_binary')"
   ]
  },
  {
   "cell_type": "code",
   "execution_count": null,
   "id": "352f65b9",
   "metadata": {},
   "outputs": [],
   "source": [
    "train_cat = onehot.fit_transform(train[['race_ethnic', 'length_us', 'ed', 'marital', 'annual_house_income']])\n",
    "column_names = onehot.get_feature_names_out(['race_ethnic', 'length_us', 'ed', 'marital', 'annual_house_income'])\n",
    "column_names"
   ]
  },
  {
   "cell_type": "code",
   "execution_count": null,
   "id": "7a0ae79e",
   "metadata": {},
   "outputs": [],
   "source": [
    "# dummy code categorical columns\n",
    "\n",
    "\n",
    "\n",
    "# train_cat_imp = coder.fit_transform(train[['race_ethnic', 'length_us']])\n",
    "# train_cat_imp\n",
    "\n",
    "# column_names = coder.get_feature_names_out(['race_ethnic', 'length_us'])\n",
    "# column_names\n",
    "\n",
    "# encode_df = pd.DataFrame(data = train_cat_imp,\n",
    "#                          columns = column_names)\n",
    "\n",
    "# encode_df.head()\n"
   ]
  },
  {
   "cell_type": "markdown",
   "id": "87120f05",
   "metadata": {},
   "source": [
    "# Test Data Preprocessing & Predictions"
   ]
  },
  {
   "cell_type": "code",
   "execution_count": null,
   "id": "595aa5a7",
   "metadata": {},
   "outputs": [],
   "source": [
    "# test_model = StepMix(n_components = ,\n",
    "#                      measurement = 'continuous',\n",
    "#                      verbose = 1,\n",
    "#                      n_init = 20,\n",
    "#                      random_state = 100825)\n",
    "# test_model.fit(blood_testi.drop(columns = 'id'))\n",
    "\n",
    "# blood_testi[f'lat_class'] = test_model.predict(blood_testi[['trigly_mg_dl', 'ldl_mg_dl',\n",
    "#                                                             'hdl_mg_dl', 'albumin_g_dl',\n",
    "#                                                             'alp_iu_l', 'ast_u_l',\n",
    "#                                                             'alt_u_l', 'ggt_u_l',\n",
    "#                                                             'total_bilirubin_mg_dl']])"
   ]
  }
 ],
 "metadata": {
  "kernelspec": {
   "display_name": "venv",
   "language": "python",
   "name": "python3"
  },
  "language_info": {
   "codemirror_mode": {
    "name": "ipython",
    "version": 3
   },
   "file_extension": ".py",
   "mimetype": "text/x-python",
   "name": "python",
   "nbconvert_exporter": "python",
   "pygments_lexer": "ipython3",
   "version": "3.12.3"
  }
 },
 "nbformat": 4,
 "nbformat_minor": 5
}
